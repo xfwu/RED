{
 "metadata": {
  "name": "",
  "signature": "sha256:bb8b7ff14d15d6a11b47319ea9fcf3118a76f608f529e9a6336954186726c07d"
 },
 "nbformat": 3,
 "nbformat_minor": 0,
 "worksheets": [
  {
   "cells": [
    {
     "cell_type": "code",
     "collapsed": false,
     "input": [
      "class TreeNode:\n",
      "    lstWord = []# static variable, store the \n",
      "    # the treenode is defined upon a list of words(lstW), here we only store the indx of the word of this treenode. \n",
      "    # each treenode has one father and a list of sons, which all stored as indx upon a list of words\n",
      "    def __init__(self, indx, father, sons):\n",
      "        self.indx = indx\n",
      "        self.father = father\n",
      "        self.sons = sons\n",
      "    \n",
      "tn = TreeNode(1,1,[2])\n",
      "tn.lstW = []\n",
      "print TreeNode.lstW\n"
     ],
     "language": "python",
     "metadata": {},
     "outputs": [
      {
       "output_type": "stream",
       "stream": "stdout",
       "text": [
        "[1, 2, 3]\n"
       ]
      }
     ],
     "prompt_number": 6
    },
    {
     "cell_type": "code",
     "collapsed": false,
     "input": [],
     "language": "python",
     "metadata": {},
     "outputs": [],
     "prompt_number": 6
    },
    {
     "cell_type": "code",
     "collapsed": false,
     "input": [],
     "language": "python",
     "metadata": {},
     "outputs": []
    }
   ],
   "metadata": {}
  }
 ]
}