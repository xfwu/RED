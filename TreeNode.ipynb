{
 "metadata": {
  "name": "",
  "signature": "sha256:008631de514d27461af93b42c36ce1db9afd1b7cb59dc8d188192b233412f3c2"
 },
 "nbformat": 3,
 "nbformat_minor": 0,
 "worksheets": [
  {
   "cells": [
    {
     "cell_type": "code",
     "collapsed": false,
     "input": [
      "class TreeNode:\n",
      "    lstWord = []# static variable, store the \n",
      "    # the treenode is defined upon a list of words(lstW), here we only store the indx of the word of this treenode. \n",
      "    # each treenode has one father and a list of sons, which all stored as indx upon a list of words\n",
      "    def __init__(self, indx, father, sons):\n",
      "        self.indx = indx\n",
      "        self.father = father\n",
      "        self.sons = sons\n",
      "    def addChild(self,indx_newsons):\n",
      "        #check if there is duplicate,\n",
      "        if indx_newsons in self.sons:\n",
      "            return 0 # there is this son already\\n\",\n",
      "        else:\n",
      "            self.sons.append(indx_newsons)\n",
      "            return 1 # append successfully\\n\",\n",
      "        def removeChild(self,indx_delsons):\n",
      "            if indx_delsons in self.sons:\n",
      "                self.sons.remove(indx_delsons)\n",
      "                return 1\n",
      "            else:\n",
      "                return 0 # there is no such indx to be deleted\\n\",\n",
      "        def getData(self,indx):\n",
      "            return TreeNode.lstWord[indx] # return the real word\\n\",\n",
      "tn = TreeNode(1,1,[2])\n",
      "TreeNode.lstWord = [2,3,4]\n",
      "print TreeNode.lstWord\n"
     ],
     "language": "python",
     "metadata": {},
     "outputs": [
      {
       "output_type": "stream",
       "stream": "stdout",
       "text": [
        "[2, 3, 4]\n"
       ]
      }
     ],
     "prompt_number": 15
    },
    {
     "cell_type": "code",
     "collapsed": false,
     "input": [],
     "language": "python",
     "metadata": {},
     "outputs": [],
     "prompt_number": 15
    },
    {
     "cell_type": "code",
     "collapsed": false,
     "input": [],
     "language": "python",
     "metadata": {},
     "outputs": []
    }
   ],
   "metadata": {}
  }
 ]
}